{
 "cells": [
  {
   "cell_type": "markdown",
   "metadata": {},
   "source": [
    "# Scoring Model\n",
    "We decided that, for the purposes of this contest, scoring would be done as simply as possible. We have no values to evaluate against and only basic product information, so we are guessing based on assumptions about the target market."
   ]
  },
  {
   "cell_type": "code",
   "execution_count": 1,
   "metadata": {},
   "outputs": [],
   "source": [
    "import os\n",
    "\n",
    "import pandas as pd\n",
    "import us\n",
    "\n",
    "#os.chdir(\"/media/wkg/storage/mcbi-datapalooza-2019/data\")\n",
    "os.chdir(\"/Users/wigasper/Documents/mcbi-datapalooza-2019/data\")"
   ]
  },
  {
   "cell_type": "code",
   "execution_count": 2,
   "metadata": {},
   "outputs": [],
   "source": [
    "# Read in\n",
    "zip_data = pd.read_csv(\"zip_data_final.csv\", index_col=None)\n",
    "\n",
    "# remove pesky \"Unnamed\" column\n",
    "zip_data = zip_data.loc[:, ~zip_data.columns.str.contains('Unnamed')]\n",
    "\n",
    "# Change zips to str and pad with 0s\n",
    "zip_data[\"zip\"] = zip_data[\"zip\"].apply(lambda x: str(x).zfill(5))"
   ]
  },
  {
   "cell_type": "markdown",
   "metadata": {},
   "source": [
    "We removed all zip codes with 0 population and all features that we deemed unnecessary for the scoring model."
   ]
  },
  {
   "cell_type": "code",
   "execution_count": 3,
   "metadata": {},
   "outputs": [],
   "source": [
    "# Remove zip codes with 0 population, these are not ideal to sell to\n",
    "zip_data = zip_data[zip_data[\"population\"] > 0]\n",
    "\n",
    "# Remove US territories from data\n",
    "states = us.states.STATES\n",
    "states = [states[state].abbr for state in range(len(states))]\n",
    "zip_data = zip_data[zip_data.state.isin(states)]\n",
    "\n",
    "# Remove unneeded features\n",
    "zip_data = pd.DataFrame(zip_data, columns=['zip', 'city', 'state', 'latitude', \n",
    "       'longitude', 'population', 'pop_45-49', 'pop_50-54', 'pop_55-59', \n",
    "       'pop_60-64', 'pop_65-69', 'pop_70-74', 'pop_75-inf', \n",
    "       'median_indiv_income', 'life_expectancy', 'rpp'])\n",
    "\n",
    "# Create primary target population feature\n",
    "zip_data['pop_45-54'] = zip_data['pop_45-49'] + zip_data['pop_50-54']"
   ]
  },
  {
   "cell_type": "code",
   "execution_count": 4,
   "metadata": {},
   "outputs": [
    {
     "data": {
      "text/html": [
       "<div>\n",
       "<style scoped>\n",
       "    .dataframe tbody tr th:only-of-type {\n",
       "        vertical-align: middle;\n",
       "    }\n",
       "\n",
       "    .dataframe tbody tr th {\n",
       "        vertical-align: top;\n",
       "    }\n",
       "\n",
       "    .dataframe thead th {\n",
       "        text-align: right;\n",
       "    }\n",
       "</style>\n",
       "<table border=\"1\" class=\"dataframe\">\n",
       "  <thead>\n",
       "    <tr style=\"text-align: right;\">\n",
       "      <th></th>\n",
       "      <th>zip</th>\n",
       "      <th>city</th>\n",
       "      <th>state</th>\n",
       "      <th>latitude</th>\n",
       "      <th>longitude</th>\n",
       "      <th>population</th>\n",
       "      <th>pop_45-49</th>\n",
       "      <th>pop_50-54</th>\n",
       "      <th>pop_55-59</th>\n",
       "      <th>pop_60-64</th>\n",
       "      <th>pop_65-69</th>\n",
       "      <th>pop_70-74</th>\n",
       "      <th>pop_75-inf</th>\n",
       "      <th>median_indiv_income</th>\n",
       "      <th>life_expectancy</th>\n",
       "      <th>rpp</th>\n",
       "      <th>pop_45-54</th>\n",
       "    </tr>\n",
       "  </thead>\n",
       "  <tbody>\n",
       "    <tr>\n",
       "      <th>231</th>\n",
       "      <td>01001</td>\n",
       "      <td>Agawam</td>\n",
       "      <td>MA</td>\n",
       "      <td>42.070610</td>\n",
       "      <td>-72.62029</td>\n",
       "      <td>17537.0</td>\n",
       "      <td>1163.0</td>\n",
       "      <td>1501.0</td>\n",
       "      <td>1337.0</td>\n",
       "      <td>930.0</td>\n",
       "      <td>886.0</td>\n",
       "      <td>1095.0</td>\n",
       "      <td>2087.0</td>\n",
       "      <td>40696.0</td>\n",
       "      <td>80.3</td>\n",
       "      <td>97.4</td>\n",
       "      <td>2664.0</td>\n",
       "    </tr>\n",
       "    <tr>\n",
       "      <th>232</th>\n",
       "      <td>01002</td>\n",
       "      <td>Amherst</td>\n",
       "      <td>MA</td>\n",
       "      <td>42.377651</td>\n",
       "      <td>-72.50323</td>\n",
       "      <td>30280.0</td>\n",
       "      <td>935.0</td>\n",
       "      <td>1410.0</td>\n",
       "      <td>1336.0</td>\n",
       "      <td>1365.0</td>\n",
       "      <td>1070.0</td>\n",
       "      <td>789.0</td>\n",
       "      <td>1494.0</td>\n",
       "      <td>16517.0</td>\n",
       "      <td>86.6</td>\n",
       "      <td>97.4</td>\n",
       "      <td>2345.0</td>\n",
       "    </tr>\n",
       "    <tr>\n",
       "      <th>233</th>\n",
       "      <td>01003</td>\n",
       "      <td>Amherst</td>\n",
       "      <td>MA</td>\n",
       "      <td>42.369562</td>\n",
       "      <td>-72.63599</td>\n",
       "      <td>11131.0</td>\n",
       "      <td>0.0</td>\n",
       "      <td>0.0</td>\n",
       "      <td>31.0</td>\n",
       "      <td>8.0</td>\n",
       "      <td>5.0</td>\n",
       "      <td>0.0</td>\n",
       "      <td>1.0</td>\n",
       "      <td>3984.0</td>\n",
       "      <td>82.1</td>\n",
       "      <td>97.4</td>\n",
       "      <td>0.0</td>\n",
       "    </tr>\n",
       "    <tr>\n",
       "      <th>235</th>\n",
       "      <td>01005</td>\n",
       "      <td>Barre</td>\n",
       "      <td>MA</td>\n",
       "      <td>42.412094</td>\n",
       "      <td>-72.10443</td>\n",
       "      <td>5014.0</td>\n",
       "      <td>437.0</td>\n",
       "      <td>274.0</td>\n",
       "      <td>667.0</td>\n",
       "      <td>425.0</td>\n",
       "      <td>382.0</td>\n",
       "      <td>100.0</td>\n",
       "      <td>255.0</td>\n",
       "      <td>45000.0</td>\n",
       "      <td>79.1</td>\n",
       "      <td>103.6</td>\n",
       "      <td>711.0</td>\n",
       "    </tr>\n",
       "    <tr>\n",
       "      <th>236</th>\n",
       "      <td>01007</td>\n",
       "      <td>Belchertown</td>\n",
       "      <td>MA</td>\n",
       "      <td>42.278424</td>\n",
       "      <td>-72.41100</td>\n",
       "      <td>14906.0</td>\n",
       "      <td>1442.0</td>\n",
       "      <td>1425.0</td>\n",
       "      <td>1065.0</td>\n",
       "      <td>1159.0</td>\n",
       "      <td>801.0</td>\n",
       "      <td>538.0</td>\n",
       "      <td>783.0</td>\n",
       "      <td>48313.0</td>\n",
       "      <td>81.8</td>\n",
       "      <td>97.4</td>\n",
       "      <td>2867.0</td>\n",
       "    </tr>\n",
       "  </tbody>\n",
       "</table>\n",
       "</div>"
      ],
      "text/plain": [
       "       zip         city state   latitude  longitude  population  pop_45-49  \\\n",
       "231  01001       Agawam    MA  42.070610  -72.62029     17537.0     1163.0   \n",
       "232  01002      Amherst    MA  42.377651  -72.50323     30280.0      935.0   \n",
       "233  01003      Amherst    MA  42.369562  -72.63599     11131.0        0.0   \n",
       "235  01005        Barre    MA  42.412094  -72.10443      5014.0      437.0   \n",
       "236  01007  Belchertown    MA  42.278424  -72.41100     14906.0     1442.0   \n",
       "\n",
       "     pop_50-54  pop_55-59  pop_60-64  pop_65-69  pop_70-74  pop_75-inf  \\\n",
       "231     1501.0     1337.0      930.0      886.0     1095.0      2087.0   \n",
       "232     1410.0     1336.0     1365.0     1070.0      789.0      1494.0   \n",
       "233        0.0       31.0        8.0        5.0        0.0         1.0   \n",
       "235      274.0      667.0      425.0      382.0      100.0       255.0   \n",
       "236     1425.0     1065.0     1159.0      801.0      538.0       783.0   \n",
       "\n",
       "     median_indiv_income  life_expectancy    rpp  pop_45-54  \n",
       "231              40696.0             80.3   97.4     2664.0  \n",
       "232              16517.0             86.6   97.4     2345.0  \n",
       "233               3984.0             82.1   97.4        0.0  \n",
       "235              45000.0             79.1  103.6      711.0  \n",
       "236              48313.0             81.8   97.4     2867.0  "
      ]
     },
     "execution_count": 4,
     "metadata": {},
     "output_type": "execute_result"
    }
   ],
   "source": [
    "zip_data.head()"
   ]
  },
  {
   "cell_type": "markdown",
   "metadata": {},
   "source": [
    "We decided to use a parabolic function to weight income. \n",
    "\n",
    "Our reasoning for this is:\n",
    "* Low income individuals cannot afford the whole life insurance product\n",
    "* High income individuals likely will have more than $25,000 in cash or liquid assets at time of death and have no need for this product\n",
    "\n",
    "So, we want to penalize both high incomes and low incomes with a parabolic function:\n",
    "\n",
    "$$score = \\frac{-.0005(income(2 - \\frac{rpp}{z}) - 40000) ^ 2 + 40000}{100}$$\n",
    "\n",
    "Where rpp is the regional price parity for the zip code and z is the tuning value.\n",
    "\n",
    "We also want to boost scores with higher target populations, but we do this additively because a population multiplier will result in very expensive, high population zip codes receiving maximum scores.\n",
    "\n",
    "This gives us a final formula of:\n",
    "\n",
    "$$score = \\frac{-.0005(income(2 - \\frac{rpp}{z}) - 40000) ^ 2 + 40000}{100} + booster\\frac{target population}{max(target population)}$$"
   ]
  },
  {
   "cell_type": "code",
   "execution_count": null,
   "metadata": {},
   "outputs": [],
   "source": []
  },
  {
   "cell_type": "code",
   "execution_count": 6,
   "metadata": {},
   "outputs": [],
   "source": [
    "# The max value for the target population\n",
    "max_target_pop = zip_data['pop_45-54'].max()\n",
    "\n",
    "# Normalize income for cost of living\n",
    "zip_data['normalized_income'] = zip_data['median_indiv_income'] * (2 - zip_data['rpp'] / 100)\n",
    "\n",
    "# Computer score\n",
    "zip_data['score'] = (1 - abs(40000 - zip_data['normalized_income']) / 40000) * (zip_data['pop_45-54'] / max_target_pop) "
   ]
  },
  {
   "cell_type": "markdown",
   "metadata": {},
   "source": [
    "Our top ten zip codes after scoring are:"
   ]
  },
  {
   "cell_type": "code",
   "execution_count": 7,
   "metadata": {},
   "outputs": [
    {
     "ename": "KeyError",
     "evalue": "'score'",
     "output_type": "error",
     "traceback": [
      "\u001b[0;31m---------------------------------------------------------------------------\u001b[0m",
      "\u001b[0;31mKeyError\u001b[0m                                  Traceback (most recent call last)",
      "\u001b[0;32m<ipython-input-7-5fe906594b1c>\u001b[0m in \u001b[0;36m<module>\u001b[0;34m\u001b[0m\n\u001b[1;32m      8\u001b[0m                                           \u001b[0;34m\"pop_45-54\"\u001b[0m\u001b[0;34m:\u001b[0m \u001b[0;34m\"Population Ages 45-54\"\u001b[0m\u001b[0;34m,\u001b[0m\u001b[0;34m\u001b[0m\u001b[0m\n\u001b[1;32m      9\u001b[0m                                           \"score\": \"Score\"})\n\u001b[0;32m---> 10\u001b[0;31m \u001b[0mscores\u001b[0m\u001b[0;34m.\u001b[0m\u001b[0msort_values\u001b[0m\u001b[0;34m(\u001b[0m\u001b[0mby\u001b[0m\u001b[0;34m=\u001b[0m\u001b[0;34m\"score\"\u001b[0m\u001b[0;34m,\u001b[0m \u001b[0mascending\u001b[0m\u001b[0;34m=\u001b[0m\u001b[0;32mFalse\u001b[0m\u001b[0;34m)\u001b[0m\u001b[0;34m[\u001b[0m\u001b[0;36m0\u001b[0m\u001b[0;34m:\u001b[0m\u001b[0;36m10\u001b[0m\u001b[0;34m]\u001b[0m\u001b[0;34m\u001b[0m\u001b[0m\n\u001b[0m",
      "\u001b[0;32m~/anaconda/lib/python3.6/site-packages/pandas/core/frame.py\u001b[0m in \u001b[0;36msort_values\u001b[0;34m(self, by, axis, ascending, inplace, kind, na_position)\u001b[0m\n\u001b[1;32m   4419\u001b[0m             \u001b[0mby\u001b[0m \u001b[0;34m=\u001b[0m \u001b[0mby\u001b[0m\u001b[0;34m[\u001b[0m\u001b[0;36m0\u001b[0m\u001b[0;34m]\u001b[0m\u001b[0;34m\u001b[0m\u001b[0m\n\u001b[1;32m   4420\u001b[0m             k = self._get_label_or_level_values(by, axis=axis,\n\u001b[0;32m-> 4421\u001b[0;31m                                                 stacklevel=stacklevel)\n\u001b[0m\u001b[1;32m   4422\u001b[0m \u001b[0;34m\u001b[0m\u001b[0m\n\u001b[1;32m   4423\u001b[0m             \u001b[0;32mif\u001b[0m \u001b[0misinstance\u001b[0m\u001b[0;34m(\u001b[0m\u001b[0mascending\u001b[0m\u001b[0;34m,\u001b[0m \u001b[0;34m(\u001b[0m\u001b[0mtuple\u001b[0m\u001b[0;34m,\u001b[0m \u001b[0mlist\u001b[0m\u001b[0;34m)\u001b[0m\u001b[0;34m)\u001b[0m\u001b[0;34m:\u001b[0m\u001b[0;34m\u001b[0m\u001b[0m\n",
      "\u001b[0;32m~/anaconda/lib/python3.6/site-packages/pandas/core/generic.py\u001b[0m in \u001b[0;36m_get_label_or_level_values\u001b[0;34m(self, key, axis, stacklevel)\u001b[0m\n\u001b[1;32m   1380\u001b[0m             \u001b[0mvalues\u001b[0m \u001b[0;34m=\u001b[0m \u001b[0mself\u001b[0m\u001b[0;34m.\u001b[0m\u001b[0maxes\u001b[0m\u001b[0;34m[\u001b[0m\u001b[0maxis\u001b[0m\u001b[0;34m]\u001b[0m\u001b[0;34m.\u001b[0m\u001b[0mget_level_values\u001b[0m\u001b[0;34m(\u001b[0m\u001b[0mkey\u001b[0m\u001b[0;34m)\u001b[0m\u001b[0;34m.\u001b[0m\u001b[0m_values\u001b[0m\u001b[0;34m\u001b[0m\u001b[0m\n\u001b[1;32m   1381\u001b[0m         \u001b[0;32melse\u001b[0m\u001b[0;34m:\u001b[0m\u001b[0;34m\u001b[0m\u001b[0m\n\u001b[0;32m-> 1382\u001b[0;31m             \u001b[0;32mraise\u001b[0m \u001b[0mKeyError\u001b[0m\u001b[0;34m(\u001b[0m\u001b[0mkey\u001b[0m\u001b[0;34m)\u001b[0m\u001b[0;34m\u001b[0m\u001b[0m\n\u001b[0m\u001b[1;32m   1383\u001b[0m \u001b[0;34m\u001b[0m\u001b[0m\n\u001b[1;32m   1384\u001b[0m         \u001b[0;31m# Check for duplicates\u001b[0m\u001b[0;34m\u001b[0m\u001b[0;34m\u001b[0m\u001b[0m\n",
      "\u001b[0;31mKeyError\u001b[0m: 'score'"
     ]
    }
   ],
   "source": [
    "scores = pd.DataFrame(zip_data, columns=['zip', 'city', 'state', 'population', 'median_indiv_income', 'rpp', 'pop_45-54', 'score'])\n",
    "scores = scores.rename(index=str, columns={\"zip\": \"Zip Code\",\n",
    "                                          \"city\": \"City\",\n",
    "                                          \"state\": \"State\",\n",
    "                                          \"population\": \"Population\",\n",
    "                                          \"median_indiv_income\": \"Median Individual Income\",\n",
    "                                          \"rpp\": \"RPP\",\n",
    "                                          \"pop_45-54\": \"Population Ages 45-54\",\n",
    "                                          \"score\": \"Score\"})\n",
    "scores.sort_values(by=\"Score\", ascending=False)[0:10]"
   ]
  },
  {
   "cell_type": "markdown",
   "metadata": {},
   "source": [
    "Our top score belongs to a zip code in Lawrenceville, GA. This zip code seems like an ideal place to sell the whole life insurance product in question: it has a large target population, a reasonable median income, and a lower-than-average RPP.\n",
    "\n",
    "It would be ideal to make the formula much more complex - we could also incorporate a sliding scale based on life expectancy to improve scores that have high 55-59 and 60-64 populations if the life expectancy is sufficiently high. However, when we have only a heuristic basis for evaluation, it seems foolish to introduce more variables that need to be tuned. Better yet, machine learning could be used to build a model to predict potential saleability for zip codes."
   ]
  },
  {
   "cell_type": "code",
   "execution_count": 55,
   "metadata": {},
   "outputs": [
    {
     "data": {
      "image/png": "[encoded data removed]",
      "text/plain": [
       "<Figure size 432x288 with 1 Axes>"
      ]
     },
     "metadata": {
      "needs_background": "light"
     },
     "output_type": "display_data"
    }
   ],
   "source": [
    "#########\n",
    "# testing\n",
    "#########\n",
    "import numpy as np\n",
    "import matplotlib.mlab as mlab\n",
    "import matplotlib.pyplot as plt\n",
    "\n",
    "num_bins = 500\n",
    "n, bins, patches = plt.hist(zip_data['score'], num_bins, range=[0,1], facecolor='blue', alpha=0.5)\n",
    "plt.show()"
   ]
  },
  {
   "cell_type": "code",
   "execution_count": 6,
   "metadata": {},
   "outputs": [],
   "source": [
    "zip_data.to_csv(\"zip_data_w_scores.csv\")"
   ]
  },
  {
   "cell_type": "code",
   "execution_count": null,
   "metadata": {},
   "outputs": [],
   "source": []
  }
 ],
 "metadata": {
  "kernelspec": {
   "display_name": "Python 3",
   "language": "python",
   "name": "python3"
  },
  "language_info": {
   "codemirror_mode": {
    "name": "ipython",
    "version": 3
   },
   "file_extension": ".py",
   "mimetype": "text/x-python",
   "name": "python",
   "nbconvert_exporter": "python",
   "pygments_lexer": "ipython3",
   "version": "3.6.6"
  }
 },
 "nbformat": 4,
 "nbformat_minor": 2
}
