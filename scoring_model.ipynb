{
 "cells": [
  {
   "cell_type": "markdown",
   "metadata": {},
   "source": [
    "# Scoring Model\n",
    "We decided that, for the purposes of this contest, scoring would be done as simply as possible. We have no values to evaluate against and only basic product information, so we are guessing based on assumptions about the target market."
   ]
  },
  {
   "cell_type": "code",
   "execution_count": 1,
   "metadata": {},
   "outputs": [],
   "source": [
    "import os\n",
    "\n",
    "import pandas as pd\n",
    "import us\n",
    "\n",
    "os.chdir(\"/media/wkg/storage/mcbi-datapalooza-2019/data\")"
   ]
  },
  {
   "cell_type": "code",
   "execution_count": 2,
   "metadata": {},
   "outputs": [],
   "source": [
    "# Read in\n",
    "zip_data = pd.read_csv(\"zip_data_final.csv\", index_col=None)\n",
    "\n",
    "# remove pesky \"Unnamed\" column\n",
    "zip_data = zip_data.loc[:, ~zip_data.columns.str.contains('Unnamed')]\n",
    "\n",
    "# Change zips to str and pad with 0s\n",
    "zip_data[\"zip\"] = zip_data[\"zip\"].apply(lambda x: str(x).zfill(5))"
   ]
  },
  {
   "cell_type": "markdown",
   "metadata": {},
   "source": [
    "We removed all zip codes with 0 population and all features that we deemed unnecessary for the scoring model."
   ]
  },
  {
   "cell_type": "code",
   "execution_count": 3,
   "metadata": {},
   "outputs": [],
   "source": [
    "# Remove zip codes with 0 population, these are not ideal to sell to\n",
    "zip_data = zip_data[zip_data[\"population\"] > 0]\n",
    "\n",
    "# Remove US territories from data\n",
    "states = us.states.STATES\n",
    "states = [states[state].abbr for state in range(len(states))]\n",
    "zip_data = zip_data[zip_data.state.isin(states)]\n",
    "\n",
    "# Remove unneeded features\n",
    "zip_data = pd.DataFrame(zip_data, columns=['zip', 'city', 'state', 'latitude', \n",
    "       'longitude', 'population', 'pop_45-49', 'pop_50-54', 'pop_55-59', \n",
    "       'pop_60-64', 'pop_65-69', 'pop_70-74', 'pop_75-inf', \n",
    "       'median_indiv_income', 'life_expectancy', 'rpp'])\n",
    "\n",
    "# Create primary target population feature\n",
    "zip_data['pop_45-54'] = zip_data['pop_45-49'] + zip_data['pop_50-54']"
   ]
  },
  {
   "cell_type": "markdown",
   "metadata": {},
   "source": [
    "We decided to use a parabolic function to weight income. \n",
    "\n",
    "Our reasoning for this is:\n",
    "* Low income individuals cannot afford the whole life insurance product\n",
    "* High income individuals likely will have more than $25,000 in cash or liquid assets at time of death and have no need for this product\n",
    "\n",
    "So, we want to penalize both high incomes and low incomes with a parabolic function:\n",
    "\n",
    "$$score = \\frac{-.0005(income(2 - \\frac{rpp}{z}) - 40000) ^ 2 + 40000}{100}$$\n",
    "\n",
    "Where rpp is the regional price parity for the zip code and z is the tuning value.\n",
    "\n",
    "We also want to boost scores with higher target populations, but we do this additively because a population multiplier will result in very expensive, high population zip codes receiving maximum scores.\n",
    "\n",
    "This gives us a final formula of:\n",
    "\n",
    "$$score = \\frac{-.0005(income(2 - \\frac{rpp}{z}) - 40000) ^ 2 + 40000}{100} + booster\\frac{target population}{max(target population)}$$"
   ]
  },
  {
   "cell_type": "code",
   "execution_count": 4,
   "metadata": {},
   "outputs": [],
   "source": [
    "# This value is used to tune the RPP effect\n",
    "rpp_tuning_val = 100\n",
    "\n",
    "# The population booster boosts a zip codes score by its percentage of the max\n",
    "pop_booster_val = 50\n",
    "\n",
    "# The max value for the target population\n",
    "max_target_pop = zip_data['pop_45-54'].max()\n",
    "\n",
    "# Income weight\n",
    "zip_data['score'] = -.0005 * (zip_data['median_indiv_income'] * (2 - zip_data['rpp'] / rpp_tuning_val) - 40000) ** 2 + 40000\n",
    "\n",
    "# Divide by 100, to make the score nicer and to give the population booster more weight\n",
    "zip_data['score'] = zip_data['score'] / 100\n",
    "\n",
    "# Add population booster\n",
    "zip_data['score'] = zip_data['score'] + pop_booster_val * zip_data['pop_50-54'] / max_target_pop"
   ]
  },
  {
   "cell_type": "markdown",
   "metadata": {},
   "source": [
    "Our top ten zip codes after scoring are:"
   ]
  },
  {
   "cell_type": "code",
   "execution_count": 5,
   "metadata": {},
   "outputs": [
    {
     "data": {
      "text/html": [
       "<div>\n",
       "<style scoped>\n",
       "    .dataframe tbody tr th:only-of-type {\n",
       "        vertical-align: middle;\n",
       "    }\n",
       "\n",
       "    .dataframe tbody tr th {\n",
       "        vertical-align: top;\n",
       "    }\n",
       "\n",
       "    .dataframe thead th {\n",
       "        text-align: right;\n",
       "    }\n",
       "</style>\n",
       "<table border=\"1\" class=\"dataframe\">\n",
       "  <thead>\n",
       "    <tr style=\"text-align: right;\">\n",
       "      <th></th>\n",
       "      <th>zip</th>\n",
       "      <th>city</th>\n",
       "      <th>state</th>\n",
       "      <th>population</th>\n",
       "      <th>median_indiv_income</th>\n",
       "      <th>rpp</th>\n",
       "      <th>pop_45-54</th>\n",
       "      <th>score</th>\n",
       "    </tr>\n",
       "  </thead>\n",
       "  <tbody>\n",
       "    <tr>\n",
       "      <th>13438</th>\n",
       "      <td>30043</td>\n",
       "      <td>Lawrenceville</td>\n",
       "      <td>GA</td>\n",
       "      <td>88588.0</td>\n",
       "      <td>38131.0</td>\n",
       "      <td>96.3</td>\n",
       "      <td>14493.0</td>\n",
       "      <td>419.691950</td>\n",
       "    </tr>\n",
       "    <tr>\n",
       "      <th>34100</th>\n",
       "      <td>75052</td>\n",
       "      <td>Grand Prairie</td>\n",
       "      <td>TX</td>\n",
       "      <td>94133.0</td>\n",
       "      <td>40933.0</td>\n",
       "      <td>100.2</td>\n",
       "      <td>13964.0</td>\n",
       "      <td>417.050616</td>\n",
       "    </tr>\n",
       "    <tr>\n",
       "      <th>13520</th>\n",
       "      <td>30135</td>\n",
       "      <td>Douglasville</td>\n",
       "      <td>GA</td>\n",
       "      <td>65106.0</td>\n",
       "      <td>38876.0</td>\n",
       "      <td>96.3</td>\n",
       "      <td>10566.0</td>\n",
       "      <td>415.616737</td>\n",
       "    </tr>\n",
       "    <tr>\n",
       "      <th>13111</th>\n",
       "      <td>29483</td>\n",
       "      <td>Summerville</td>\n",
       "      <td>SC</td>\n",
       "      <td>77862.0</td>\n",
       "      <td>38229.0</td>\n",
       "      <td>96.2</td>\n",
       "      <td>10137.0</td>\n",
       "      <td>415.078662</td>\n",
       "    </tr>\n",
       "    <tr>\n",
       "      <th>13445</th>\n",
       "      <td>30052</td>\n",
       "      <td>Loganville</td>\n",
       "      <td>GA</td>\n",
       "      <td>63211.0</td>\n",
       "      <td>38910.0</td>\n",
       "      <td>96.3</td>\n",
       "      <td>9557.0</td>\n",
       "      <td>414.851402</td>\n",
       "    </tr>\n",
       "    <tr>\n",
       "      <th>3299</th>\n",
       "      <td>08527</td>\n",
       "      <td>Jackson</td>\n",
       "      <td>NJ</td>\n",
       "      <td>56139.0</td>\n",
       "      <td>51392.0</td>\n",
       "      <td>122.0</td>\n",
       "      <td>9548.0</td>\n",
       "      <td>413.926302</td>\n",
       "    </tr>\n",
       "    <tr>\n",
       "      <th>36760</th>\n",
       "      <td>80013</td>\n",
       "      <td>Aurora</td>\n",
       "      <td>CO</td>\n",
       "      <td>72650.0</td>\n",
       "      <td>41972.0</td>\n",
       "      <td>106.0</td>\n",
       "      <td>9969.0</td>\n",
       "      <td>413.785201</td>\n",
       "    </tr>\n",
       "    <tr>\n",
       "      <th>27824</th>\n",
       "      <td>60638</td>\n",
       "      <td>Chicago</td>\n",
       "      <td>IL</td>\n",
       "      <td>58990.0</td>\n",
       "      <td>41564.0</td>\n",
       "      <td>103.8</td>\n",
       "      <td>8157.0</td>\n",
       "      <td>412.728092</td>\n",
       "    </tr>\n",
       "    <tr>\n",
       "      <th>40738</th>\n",
       "      <td>92691</td>\n",
       "      <td>Mission Viejo</td>\n",
       "      <td>CA</td>\n",
       "      <td>50287.0</td>\n",
       "      <td>48829.0</td>\n",
       "      <td>117.7</td>\n",
       "      <td>8516.0</td>\n",
       "      <td>412.394486</td>\n",
       "    </tr>\n",
       "    <tr>\n",
       "      <th>41505</th>\n",
       "      <td>94538</td>\n",
       "      <td>Fremont</td>\n",
       "      <td>CA</td>\n",
       "      <td>67133.0</td>\n",
       "      <td>52131.0</td>\n",
       "      <td>124.7</td>\n",
       "      <td>9158.0</td>\n",
       "      <td>411.994874</td>\n",
       "    </tr>\n",
       "  </tbody>\n",
       "</table>\n",
       "</div>"
      ],
      "text/plain": [
       "         zip           city state  population  median_indiv_income    rpp  \\\n",
       "13438  30043  Lawrenceville    GA     88588.0              38131.0   96.3   \n",
       "34100  75052  Grand Prairie    TX     94133.0              40933.0  100.2   \n",
       "13520  30135   Douglasville    GA     65106.0              38876.0   96.3   \n",
       "13111  29483    Summerville    SC     77862.0              38229.0   96.2   \n",
       "13445  30052     Loganville    GA     63211.0              38910.0   96.3   \n",
       "3299   08527        Jackson    NJ     56139.0              51392.0  122.0   \n",
       "36760  80013         Aurora    CO     72650.0              41972.0  106.0   \n",
       "27824  60638        Chicago    IL     58990.0              41564.0  103.8   \n",
       "40738  92691  Mission Viejo    CA     50287.0              48829.0  117.7   \n",
       "41505  94538        Fremont    CA     67133.0              52131.0  124.7   \n",
       "\n",
       "       pop_45-54       score  \n",
       "13438    14493.0  419.691950  \n",
       "34100    13964.0  417.050616  \n",
       "13520    10566.0  415.616737  \n",
       "13111    10137.0  415.078662  \n",
       "13445     9557.0  414.851402  \n",
       "3299      9548.0  413.926302  \n",
       "36760     9969.0  413.785201  \n",
       "27824     8157.0  412.728092  \n",
       "40738     8516.0  412.394486  \n",
       "41505     9158.0  411.994874  "
      ]
     },
     "execution_count": 5,
     "metadata": {},
     "output_type": "execute_result"
    }
   ],
   "source": [
    "scores = pd.DataFrame(zip_data, columns=['zip', 'city', 'state', 'population', 'median_indiv_income', 'rpp', 'pop_45-54', 'score'])\n",
    "scores.sort_values(by=\"score\", ascending=False)[0:10]"
   ]
  },
  {
   "cell_type": "markdown",
   "metadata": {},
   "source": [
    "Our top score belongs to a zip code in Lawrenceville, GA. This zip code seems like an ideal place to sell the whole life insurance product in question: it has a large target population, a reasonable median income, and a lower-than-average RPP.\n",
    "\n",
    "It would be ideal to make the formula much more complex - we could also incorporate a sliding scale based on life expectancy to improve scores that have high 55-59 and 60-64 populations if the life expectancy is sufficiently high. However, when we have only a heuristic basis for evaluation, it seems foolish to introduce more variables that need to be tuned. Better yet, machine learning could be used to build a model to predict potential saleability for zip codes."
   ]
  },
  {
   "cell_type": "code",
   "execution_count": 21,
   "metadata": {},
   "outputs": [
    {
     "data": {
      "image/png": "[encoded data removed]",
      "text/plain": [
       "<Figure size 432x288 with 1 Axes>"
      ]
     },
     "metadata": {
      "needs_background": "light"
     },
     "output_type": "display_data"
    }
   ],
   "source": [
    "#########\n",
    "# testing\n",
    "#########\n",
    "import numpy as np\n",
    "import matplotlib.mlab as mlab\n",
    "import matplotlib.pyplot as plt\n",
    "\n",
    "num_bins = 500\n",
    "n, bins, patches = plt.hist(zip_data['score'], num_bins, range=[0,450], facecolor='blue', alpha=0.5)\n",
    "plt.show()"
   ]
  },
  {
   "cell_type": "code",
   "execution_count": 6,
   "metadata": {},
   "outputs": [],
   "source": [
    "zip_data.to_csv(\"zip_data_w_scores.csv\")"
   ]
  },
  {
   "cell_type": "code",
   "execution_count": null,
   "metadata": {},
   "outputs": [],
   "source": []
  }
 ],
 "metadata": {
  "kernelspec": {
   "display_name": "Python 3",
   "language": "python",
   "name": "python3"
  },
  "language_info": {
   "codemirror_mode": {
    "name": "ipython",
    "version": 3
   },
   "file_extension": ".py",
   "mimetype": "text/x-python",
   "name": "python",
   "nbconvert_exporter": "python",
   "pygments_lexer": "ipython3",
   "version": "3.6.8"
  }
 },
 "nbformat": 4,
 "nbformat_minor": 2
}
