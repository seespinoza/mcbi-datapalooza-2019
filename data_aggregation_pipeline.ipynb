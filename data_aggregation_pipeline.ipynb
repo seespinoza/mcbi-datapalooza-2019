{
 "cells": [
  {
   "cell_type": "code",
   "execution_count": null,
   "metadata": {},
   "outputs": [],
   "source": []
  },
  {
   "cell_type": "code",
   "execution_count": null,
   "metadata": {},
   "outputs": [],
   "source": []
  },
  {
   "cell_type": "code",
   "execution_count": 1,
   "metadata": {},
   "outputs": [],
   "source": [
    "import os\n",
    "import time\n",
    "\n",
    "from tqdm import tqdm\n",
    "import pandas as pd\n",
    "# Census API wrapper package:\n",
    "#       https://github.com/datamade/census\n",
    "from census import Census"
   ]
  },
  {
   "cell_type": "code",
   "execution_count": 2,
   "metadata": {},
   "outputs": [],
   "source": [
    "os.chdir(\"/media/wkg/storage/mcbi-datapalooza-2019\")\n",
    "#os.chdir(\"/Users/wigasper/Documents/mcbi-datapalooza-2019\")"
   ]
  },
  {
   "cell_type": "code",
   "execution_count": 3,
   "metadata": {},
   "outputs": [],
   "source": [
    "zip_data = pd.read_csv(\"zipcodes.csv\", index_col=None)\n",
    "\n",
    "# Remove pesky \"Unnamed\" column\n",
    "zip_data = zip_data.loc[:, ~zip_data.columns.str.contains('Unnamed')]\n",
    "\n",
    "# Change zips to str and pad with 0s\n",
    "zip_data[\"zip\"] = zip_data[\"zip\"].apply(lambda x: str(x).zfill(5))\n",
    "\n",
    "# Create Census object with API key\n",
    "cens = Census(\"641afb80c092a21ba85b039d816e211551bccad4\")"
   ]
  },
  {
   "cell_type": "markdown",
   "metadata": {},
   "source": [
    "zip_data contains basic geographic zip code data for 44,336 zip codes in the US."
   ]
  },
  {
   "cell_type": "code",
   "execution_count": 5,
   "metadata": {},
   "outputs": [
    {
     "data": {
      "text/html": [
       "<div>\n",
       "<style scoped>\n",
       "    .dataframe tbody tr th:only-of-type {\n",
       "        vertical-align: middle;\n",
       "    }\n",
       "\n",
       "    .dataframe tbody tr th {\n",
       "        vertical-align: top;\n",
       "    }\n",
       "\n",
       "    .dataframe thead th {\n",
       "        text-align: right;\n",
       "    }\n",
       "</style>\n",
       "<table border=\"1\" class=\"dataframe\">\n",
       "  <thead>\n",
       "    <tr style=\"text-align: right;\">\n",
       "      <th></th>\n",
       "      <th>zip</th>\n",
       "      <th>city</th>\n",
       "      <th>state</th>\n",
       "      <th>latitude</th>\n",
       "      <th>longitude</th>\n",
       "    </tr>\n",
       "  </thead>\n",
       "  <tbody>\n",
       "    <tr>\n",
       "      <th>0</th>\n",
       "      <td>00210</td>\n",
       "      <td>Portsmouth</td>\n",
       "      <td>NH</td>\n",
       "      <td>43.005895</td>\n",
       "      <td>-71.013202</td>\n",
       "    </tr>\n",
       "    <tr>\n",
       "      <th>1</th>\n",
       "      <td>00211</td>\n",
       "      <td>Portsmouth</td>\n",
       "      <td>NH</td>\n",
       "      <td>43.005895</td>\n",
       "      <td>-71.013202</td>\n",
       "    </tr>\n",
       "    <tr>\n",
       "      <th>2</th>\n",
       "      <td>00212</td>\n",
       "      <td>Portsmouth</td>\n",
       "      <td>NH</td>\n",
       "      <td>43.005895</td>\n",
       "      <td>-71.013202</td>\n",
       "    </tr>\n",
       "    <tr>\n",
       "      <th>3</th>\n",
       "      <td>00213</td>\n",
       "      <td>Portsmouth</td>\n",
       "      <td>NH</td>\n",
       "      <td>43.005895</td>\n",
       "      <td>-71.013202</td>\n",
       "    </tr>\n",
       "    <tr>\n",
       "      <th>4</th>\n",
       "      <td>00214</td>\n",
       "      <td>Portsmouth</td>\n",
       "      <td>NH</td>\n",
       "      <td>43.005895</td>\n",
       "      <td>-71.013202</td>\n",
       "    </tr>\n",
       "  </tbody>\n",
       "</table>\n",
       "</div>"
      ],
      "text/plain": [
       "     zip        city state   latitude  longitude\n",
       "0  00210  Portsmouth    NH  43.005895 -71.013202\n",
       "1  00211  Portsmouth    NH  43.005895 -71.013202\n",
       "2  00212  Portsmouth    NH  43.005895 -71.013202\n",
       "3  00213  Portsmouth    NH  43.005895 -71.013202\n",
       "4  00214  Portsmouth    NH  43.005895 -71.013202"
      ]
     },
     "execution_count": 5,
     "metadata": {},
     "output_type": "execute_result"
    }
   ],
   "source": [
    "zip_data.head()"
   ]
  },
  {
   "cell_type": "markdown",
   "metadata": {},
   "source": [
    "This function is used to retrieve data from the Census's 5-year American Community Survey, which provides accurate estimates for a huge number of variables for US zip codes. We are using this data to "
   ]
  },
  {
   "cell_type": "code",
   "execution_count": null,
   "metadata": {},
   "outputs": [],
   "source": [
    "# get_census_val() : Gets the value of a given variable for a given zipcode\n",
    "# Args: cens_obj - A Census object (census package)\n",
    "#       variable - The variable to get a value for. From:\n",
    "#           https://api.census.gov/data/2017/acs/acs5/variables.html\n",
    "#       zipcode - The zipcode to get the variable's value for\n",
    "# Returns the value of the variable for the zipcode, or None if a connection\n",
    "# error. Also returns 0.0 if there is no value - this may need to be tweaked\n",
    "# and is not adequately abstracted.\n",
    "# Still needs to be tested with every variable change\n",
    "def get_census_val(cens_obj, variable, zipcode):\n",
    "    try:\n",
    "        result = cens_obj.acs5.zipcode(variable, zipcode)\n",
    "        if len(result) > 0:\n",
    "            return result[0].get(variable)\n",
    "        else:\n",
    "            return 0.0\n",
    "    except ConnectionError:\n",
    "        return None\n",
    "    except CensusException:\n",
    "        return None"
   ]
  },
  {
   "cell_type": "code",
   "execution_count": null,
   "metadata": {},
   "outputs": [],
   "source": [
    "# Put zip codes into a list for ease of processing\n",
    "zips = [[zipcode, None] for zipcode in zip_data[\"zip\"]]\n",
    "\n",
    "# Get populations for zip codes if value is None. I did it this way to be able\n",
    "# non-redundantly call the API in batches in case of the common ConnectionError\n",
    "for zipcode in tqdm(zips):\n",
    "    if zipcode[1] is None:\n",
    "        zipcode[1] = get_census_val(cens, \"B01003_001E\", zipcode[0])"
   ]
  }
 ],
 "metadata": {
  "kernelspec": {
   "display_name": "Python 3",
   "language": "python",
   "name": "python3"
  },
  "language_info": {
   "codemirror_mode": {
    "name": "ipython",
    "version": 3
   },
   "file_extension": ".py",
   "mimetype": "text/x-python",
   "name": "python",
   "nbconvert_exporter": "python",
   "pygments_lexer": "ipython3",
   "version": "3.6.8"
  }
 },
 "nbformat": 4,
 "nbformat_minor": 2
}
